{
 "cells": [
  {
   "cell_type": "markdown",
   "metadata": {},
   "source": [
    "# Self-Driving Car Engineer Nanodegree\n",
    "\n",
    "## Deep Learning\n",
    "\n",
    "## Project: Build a Traffic Sign Recognition Classifier\n",
    "\n",
    "In this notebook, a template is provided for you to implement your functionality in stages, which is required to successfully complete this project. If additional code is required that cannot be included in the notebook, be sure that the Python code is successfully imported and included in your submission if necessary. \n",
    "\n",
    "> **Note**: Once you have completed all of the code implementations, you need to finalize your work by exporting the iPython Notebook as an HTML document. Before exporting the notebook to html, all of the code cells need to have been run so that reviewers can see the final implementation and output. You can then export the notebook by using the menu above and navigating to  \\n\",\n",
    "    \"**File -> Download as -> HTML (.html)**. Include the finished document along with this notebook as your submission. \n",
    "\n",
    "In addition to implementing code, there is a writeup to complete. The writeup should be completed in a separate file, which can be either a markdown file or a pdf document. There is a [write up template](https://github.com/udacity/CarND-Traffic-Sign-Classifier-Project/blob/master/writeup_template.md) that can be used to guide the writing process. Completing the code template and writeup template will cover all of the [rubric points](https://review.udacity.com/#!/rubrics/481/view) for this project.\n",
    "\n",
    "The [rubric](https://review.udacity.com/#!/rubrics/481/view) contains \"Stand Out Suggestions\" for enhancing the project beyond the minimum requirements. The stand out suggestions are optional. If you decide to pursue the \"stand out suggestions\", you can include the code in this Ipython notebook and also discuss the results in the writeup file.\n",
    "\n",
    "\n",
    ">**Note:** Code and Markdown cells can be executed using the **Shift + Enter** keyboard shortcut. In addition, Markdown cells can be edited by typically double-clicking the cell to enter edit mode."
   ]
  },
  {
   "cell_type": "markdown",
   "metadata": {},
   "source": [
    "---\n",
    "## Step 0: Load The Data"
   ]
  },
  {
   "cell_type": "code",
   "execution_count": 2,
   "metadata": {
    "collapsed": false
   },
   "outputs": [],
   "source": [
    "import os\n",
    "\n",
    "# Load pickled data\n",
    "import pickle\n",
    "import pandas as pd\n",
    "import time as time\n",
    "import random\n",
    "\n",
    "from sklearn.utils import shuffle\n",
    "from sklearn.preprocessing import OneHotEncoder\n",
    "from sklearn.metrics import confusion_matrix\n",
    "\n",
    "import matplotlib.image as mpimg\n",
    "import matplotlib.pyplot as plt \n",
    "import matplotlib.gridspec as gridspec\n",
    "\n",
    "import scipy.ndimage as snd\n",
    "\n",
    "# Importing a few others I want\n",
    "import cv2\n",
    "import numpy as np\n",
    "import tensorflow as tf\n",
    "from tensorflow.contrib.layers import flatten\n",
    "\n",
    "# TODO: Fill this in based on where you saved the training and testing data\n",
    "\n",
    "def onehot_encode_labels(Y,N_classes):\n",
    "    onehotE = OneHotEncoder()\n",
    "    Y_ohe = onehotE.fit(np.arange(N_classes).reshape(-1, 1))\n",
    "    Y_labels = Y_ohe.transform(Y.reshape(-1, 1)).toarray()\n",
    "    return Y_labels\n",
    "\n",
    "def check_onehot(cls,y):\n",
    "    check = np.linalg.norm(np.argmax(cls,axis=1)-y)\n",
    "    if check == 0:\n",
    "        print('One hot encoding correct')\n",
    "    else:\n",
    "        print('One hot encoding doesnt match the output')\n",
    "\n",
    "training_file = 'traffic-signs-data/train.p'\n",
    "validation_file='traffic-signs-data/valid.p'\n",
    "testing_file = 'traffic-signs-data/test.p'\n",
    "\n",
    "with open(training_file, mode='rb') as f:\n",
    "    train = pickle.load(f)\n",
    "with open(validation_file, mode='rb') as f:\n",
    "    valid = pickle.load(f)\n",
    "with open(testing_file, mode='rb') as f:\n",
    "    test = pickle.load(f)\n",
    "    \n",
    "X_train, y_train = train['features'], train['labels']\n",
    "X_valid, y_valid = valid['features'], valid['labels']\n",
    "X_test, y_test = test['features'], test['labels']"
   ]
  },
  {
   "cell_type": "markdown",
   "metadata": {},
   "source": [
    "---\n",
    "\n",
    "## Step 1: Dataset Summary & Exploration\n",
    "\n",
    "The pickled data is a dictionary with 4 key/value pairs:\n",
    "\n",
    "- `'features'` is a 4D array containing raw pixel data of the traffic sign images, (num examples, width, height, channels).\n",
    "- `'labels'` is a 1D array containing the label/class id of the traffic sign. The file `signnames.csv` contains id -> name mappings for each id.\n",
    "- `'sizes'` is a list containing tuples, (width, height) representing the original width and height the image.\n",
    "- `'coords'` is a list containing tuples, (x1, y1, x2, y2) representing coordinates of a bounding box around the sign in the image. **THESE COORDINATES ASSUME THE ORIGINAL IMAGE. THE PICKLED DATA CONTAINS RESIZED VERSIONS (32 by 32) OF THESE IMAGES**\n",
    "\n",
    "Complete the basic data summary below. Use python, numpy and/or pandas methods to calculate the data summary rather than hard coding the results. For example, the [pandas shape method](http://pandas.pydata.org/pandas-docs/stable/generated/pandas.DataFrame.shape.html) might be useful for calculating some of the summary results. "
   ]
  },
  {
   "cell_type": "markdown",
   "metadata": {},
   "source": [
    "### Provide a Basic Summary of the Data Set Using Python, Numpy and/or Pandas"
   ]
  },
  {
   "cell_type": "code",
   "execution_count": 2,
   "metadata": {
    "collapsed": false
   },
   "outputs": [
    {
     "name": "stdout",
     "output_type": "stream",
     "text": [
      "Number of training examples = 34799\n",
      "Number of validation examples = 4410\n",
      "Number of testing examples = 12630\n",
      "Image data shape = (32, 32, 3)\n",
      "Validation data shape = (32, 32, 3)\n",
      "Number of classes = 43\n"
     ]
    }
   ],
   "source": [
    "### Replace each question mark with the appropriate value. \n",
    "### Use python, pandas or numpy methods rather than hard coding the results\n",
    "\n",
    "# TODO: Number of training examples\n",
    "n_train = len(X_train)\n",
    "\n",
    "# TODO: Number of validation examples\n",
    "n_validation = len(X_valid)\n",
    "\n",
    "# TODO: Number of testing examples.\n",
    "n_test = len(X_test)\n",
    "\n",
    "# TODO: What's the shape of an traffic sign image?\n",
    "image_shape = X_train[0].shape\n",
    "\n",
    "val_image_shape = X_valid[0].shape\n",
    "\n",
    "# TODO: How many unique classes/labels there are in the dataset.\n",
    "n_classes = np.unique(y_train).size\n",
    "\n",
    "print(\"Number of training examples =\", n_train)\n",
    "print(\"Number of validation examples =\", n_validation)\n",
    "print(\"Number of testing examples =\", n_test)\n",
    "print(\"Image data shape =\", image_shape)\n",
    "print(\"Validation data shape =\", val_image_shape)\n",
    "print(\"Number of classes =\", n_classes)\n",
    "\n",
    "#onehot_y_train = onehot_encode_labels(y_train, 43)\n",
    "#onehot_y_valid = onehot_encode_labels(y_valid, 43)\n",
    "#onehot_y_test = onehot_encode_labels(y_test, 43)\n",
    "\n",
    "#check_onehot(onehot_y_train, y_train)\n",
    "#check_onehot(onehot_y_valid, y_valid)\n",
    "#check_onehot(onehot_y_test, y_test)"
   ]
  },
  {
   "cell_type": "markdown",
   "metadata": {},
   "source": [
    "### Include an exploratory visualization of the dataset"
   ]
  },
  {
   "cell_type": "markdown",
   "metadata": {},
   "source": [
    "Visualize the German Traffic Signs Dataset using the pickled file(s). This is open ended, suggestions include: plotting traffic sign images, plotting the count of each sign, etc. \n",
    "\n",
    "The [Matplotlib](http://matplotlib.org/) [examples](http://matplotlib.org/examples/index.html) and [gallery](http://matplotlib.org/gallery.html) pages are a great resource for doing visualizations in Python.\n",
    "\n",
    "**NOTE:** It's recommended you start with something simple first. If you wish to do more, come back to it after you've completed the rest of the sections. It can be interesting to look at the distribution of classes in the training, validation and test set. Is the distribution the same? Are there more examples of some classes than others?"
   ]
  },
  {
   "cell_type": "code",
   "execution_count": 3,
   "metadata": {
    "collapsed": false,
    "scrolled": true
   },
   "outputs": [
    {
     "name": "stdout",
     "output_type": "stream",
     "text": [
      "    ClassId                                           SignName  Total\n",
      "0         2                               Speed limit (50km/h)   2010\n",
      "1         1                               Speed limit (30km/h)   1980\n",
      "2        13                                              Yield   1920\n",
      "3        12                                      Priority road   1890\n",
      "4        38                                         Keep right   1860\n",
      "5        10       No passing for vehicles over 3.5 metric tons   1800\n",
      "6         4                               Speed limit (70km/h)   1770\n",
      "7         5                               Speed limit (80km/h)   1650\n",
      "8        25                                          Road work   1350\n",
      "9         9                                         No passing   1320\n",
      "10        7                              Speed limit (100km/h)   1290\n",
      "11        3                               Speed limit (60km/h)   1260\n",
      "12        8                              Speed limit (120km/h)   1260\n",
      "13       11              Right-of-way at the next intersection   1170\n",
      "14       35                                         Ahead only   1080\n",
      "15       18                                    General caution   1080\n",
      "16       17                                           No entry    990\n",
      "17       31                              Wild animals crossing    690\n",
      "18       14                                               Stop    690\n",
      "19       33                                   Turn right ahead    599\n",
      "20       15                                        No vehicles    540\n",
      "21       26                                    Traffic signals    540\n",
      "22       28                                  Children crossing    480\n",
      "23       23                                      Slippery road    450\n",
      "24       30                                 Beware of ice/snow    390\n",
      "25       16           Vehicles over 3.5 metric tons prohibited    360\n",
      "26       34                                    Turn left ahead    360\n",
      "27        6                        End of speed limit (80km/h)    360\n",
      "28       36                               Go straight or right    330\n",
      "29       22                                         Bumpy road    330\n",
      "30       40                               Roundabout mandatory    300\n",
      "31       20                       Dangerous curve to the right    300\n",
      "32       39                                          Keep left    270\n",
      "33       21                                       Double curve    270\n",
      "34       29                                  Bicycles crossing    240\n",
      "35       24                          Road narrows on the right    240\n",
      "36       41                                  End of no passing    210\n",
      "37       42  End of no passing by vehicles over 3.5 metric ...    210\n",
      "38       32                End of all speed and passing limits    210\n",
      "39       27                                        Pedestrians    210\n",
      "40       37                                Go straight or left    180\n",
      "41       19                        Dangerous curve to the left    180\n",
      "42        0                               Speed limit (20km/h)    180\n",
      "Train dataset\n"
     ]
    },
    {
     "data": {
      "image/png": "[encoded data removed]",
      "text/plain": [
       "<matplotlib.figure.Figure at 0x11fe73be0>"
      ]
     },
     "metadata": {},
     "output_type": "display_data"
    },
    {
     "data": {
      "image/png": "[encoded data removed]",
      "text/plain": [
       "<matplotlib.figure.Figure at 0x11fe73ef0>"
      ]
     },
     "metadata": {},
     "output_type": "display_data"
    },
    {
     "name": "stdout",
     "output_type": "stream",
     "text": [
      "\n"
     ]
    }
   ],
   "source": [
    "#calculate no of occurences of unique images and sort it \n",
    "data_sum = [[i,sum(y_train == i)] for i in range(len(np.unique(y_train)))] \n",
    "data_sum_sorted = sorted(data_sum, key=lambda x: x[1])\n",
    "#print(data_sum_sorted)\n",
    "\n",
    "#read sign names \n",
    "signname_df = pd.read_csv('signnames.csv', index_col='ClassId')\n",
    "#print(signname_df)\n",
    "signname_df['Total'] = pd.Series(np.asarray(data_sum_sorted).T[1], index=np.asarray(data_sum_sorted).T[0])\n",
    "#print(signname_df)\n",
    "\n",
    "signname_df_sorted = signname_df.sort_values(['Total'],ascending=[0]).reset_index()\n",
    "print (signname_df_sorted)\n",
    "#plot train data distribution as histogram graph \n",
    "plt.hist(y_train, bins = n_classes)\n",
    "#signname_df_sorted.head(43)\n",
    "\n",
    "def plot_random_images(rows, cols, X, Y, is_gray): \n",
    "    plt.figure(figsize = (10,8)) \n",
    "    gs1 = gridspec.GridSpec(rows,rows) \n",
    "    gs1.update(wspace=0.01, hspace=0.02)\n",
    "    for i in range(rows*cols):\n",
    "        ax1 = plt.subplot(gs1[i])\n",
    "        plt.axis('on')\n",
    "        ax1.set_aspect('equal')\n",
    "        ind_plot = np.random.randint(1,len(Y))\n",
    "        if is_gray :\n",
    "            plt.imshow(X[ind_plot], cmap='gray')\n",
    "        else :\n",
    "            plt.imshow(X[ind_plot])\n",
    "        plt.axis('off')\n",
    "    plt.show()\n",
    "\n",
    "print(\"Train dataset\")\n",
    "plot_random_images(5, 5, X_train, y_train, False)\n",
    "print()\n",
    "#print(\"Validation dataset\")\n",
    "#plot_random_images(5, 5, X_valid, y_valid)\n",
    "#print()\n"
   ]
  },
  {
   "cell_type": "markdown",
   "metadata": {},
   "source": [
    "----\n",
    "\n",
    "## Step 2: Design and Test a Model Architecture\n",
    "\n",
    "Design and implement a deep learning model that learns to recognize traffic signs. Train and test your model on the [German Traffic Sign Dataset](http://benchmark.ini.rub.de/?section=gtsrb&subsection=dataset).\n",
    "\n",
    "The LeNet-5 implementation shown in the [classroom](https://classroom.udacity.com/nanodegrees/nd013/parts/fbf77062-5703-404e-b60c-95b78b2f3f9e/modules/6df7ae49-c61c-4bb2-a23e-6527e69209ec/lessons/601ae704-1035-4287-8b11-e2c2716217ad/concepts/d4aca031-508f-4e0b-b493-e7b706120f81) at the end of the CNN lesson is a solid starting point. You'll have to change the number of classes and possibly the preprocessing, but aside from that it's plug and play! \n",
    "\n",
    "With the LeNet-5 solution from the lecture, you should expect a validation set accuracy of about 0.89. To meet specifications, the validation set accuracy will need to be at least 0.93. It is possible to get an even higher accuracy, but 0.93 is the minimum for a successful project submission. \n",
    "\n",
    "There are various aspects to consider when thinking about this problem:\n",
    "\n",
    "- Neural network architecture (is the network over or underfitting?)\n",
    "- Play around preprocessing techniques (normalization, rgb to grayscale, etc)\n",
    "- Number of examples per label (some have more than others).\n",
    "- Generate fake data.\n",
    "\n",
    "Here is an example of a [published baseline model on this problem](http://yann.lecun.com/exdb/publis/pdf/sermanet-ijcnn-11.pdf). It's not required to be familiar with the approach used in the paper but, it's good practice to try to read papers like these."
   ]
  },
  {
   "cell_type": "markdown",
   "metadata": {},
   "source": [
    "### Pre-process the Data Set (normalization, grayscale, etc.)"
   ]
  },
  {
   "cell_type": "markdown",
   "metadata": {},
   "source": [
    "Minimally, the image data should be normalized so that the data has mean zero and equal variance. For image data, `(pixel - 128)/ 128` is a quick way to approximately normalize the data and can be used in this project. \n",
    "\n",
    "Other pre-processing steps are optional. You can try different techniques to see if it improves performance. \n",
    "\n",
    "Use the code cell (or multiple code cells, if necessary) to implement the first step of your project."
   ]
  },
  {
   "cell_type": "code",
   "execution_count": 4,
   "metadata": {
    "collapsed": true
   },
   "outputs": [],
   "source": [
    "#pre process image. Convert to grayscale and equalize histogram\n",
    "def preprocess_image(img):\n",
    "    img2=img.copy() \n",
    "    #img2[:, :, 0] = cv2.equalizeHist(img[:, :, 0])\n",
    "    #img2[:, :, 1] = cv2.equalizeHist(img[:, :, 1])\n",
    "    #img2[:, :, 2] = cv2.equalizeHist(img[:, :, 2])\n",
    "    #convert to gray color\n",
    "    img = cv2.cvtColor(img2, cv2.COLOR_RGB2GRAY)\n",
    "    img = cv2.equalizeHist(img)\n",
    "    #normalize \n",
    "    #img = (img -128)/128    \n",
    "    return img\n",
    "\n",
    "def augment(image):\n",
    "    if (random.choice([True, False])):\n",
    "        image = snd.interpolation.shift(image, [random.randrange(-2, 2), random.randrange(-2, 2), 0])\n",
    "    else:\n",
    "        image = snd.interpolation.rotate(image, random.randrange(-10, 10), reshape=False)\n",
    "    return image\n",
    "    '''\n",
    "    #Rotation\n",
    "    ang_rot = np.random.uniform(25)-25/2\n",
    "    rows,cols,ch = image.shape    \n",
    "    Rot_M = cv2.getRotationMatrix2D((cols/2,rows/2),ang_rot,1)\n",
    "    image = cv2.warpAffine(image,Rot_M,(cols,rows))\n",
    "    \n",
    "    #Translation\n",
    "    p_x = 5*np.random.uniform()-5/2\n",
    "    p_y = 5*np.random.uniform()-5/2\n",
    "    Trans_M = np.float32([[1,0,p_x],[0,1,p_y]])\n",
    "    image = cv2.warpAffine(image,Trans_M,(cols,rows))\n",
    "    \n",
    "    # Shear\n",
    "    pts1 = np.float32([[5,5],[20,5],[5,20]])\n",
    "    pt1 = 5+5*np.random.uniform()-5/2\n",
    "    pt2 = 20+5*np.random.uniform()-5/2\n",
    "    pts2 = np.float32([[pt1,5],[pt2,pt1],[5,pt2]])\n",
    "    shear_M = cv2.getAffineTransform(pts1,pts2)\n",
    "    image = cv2.warpAffine(image,shear_M,(cols,rows))\n",
    "    \n",
    "    return preprocess_image(image)\n",
    "    '''\n",
    "def generate_train_data(X_data, y_data):\n",
    "    #calculate avg no of images and treat that as a no of times need to augment\n",
    "    n_samples = round(n_train/n_classes)\n",
    "    aug_x_data = []\n",
    "    aug_y_data = []\n",
    "    for index, df in signname_df_sorted.iterrows():\n",
    "        aug_required = round(n_samples/df['Total'])\n",
    "        if aug_required <= 1 :\n",
    "            continue\n",
    "        aug_required *= 2\n",
    "        print(\"Augment is required for {}, no of times {:d}\".format(df['SignName'], aug_required))\n",
    "        for image, classid in zip(X_data, y_data):\n",
    "            if classid == df['ClassId']:\n",
    "                for temp_i in range(aug_required):\n",
    "                    aug_x_data.append(augment(image))\n",
    "                    aug_y_data.append(classid)\n",
    "    return np.array(aug_x_data), np.array(aug_y_data)\n",
    "\n"
   ]
  },
  {
   "cell_type": "code",
   "execution_count": 5,
   "metadata": {
    "collapsed": false,
    "scrolled": false
   },
   "outputs": [
    {
     "data": {
      "image/png": "[encoded data removed]",
      "text/plain": [
       "<matplotlib.figure.Figure at 0x11fe4d940>"
      ]
     },
     "metadata": {},
     "output_type": "display_data"
    }
   ],
   "source": [
    "#pre process test with 3 images\n",
    "plt.figure(figsize = (10,8)) \n",
    "gs1 = gridspec.GridSpec(3,2) \n",
    "gs1.update(wspace=0.01, hspace=0.19)\n",
    "plt_count = 0;\n",
    "for i in range(3):\n",
    "    index = random.randint(1, len(X_train))\n",
    "    image = X_train[index]\n",
    "    ax1 = plt.subplot(gs1[plt_count])\n",
    "    plt_count += 1\n",
    "    \n",
    "    plt.axis('off')\n",
    "    ax1.set_aspect('equal')\n",
    "    #ax1[i].axis('off')\n",
    "    plt.imshow(image)\n",
    "    #sign_name = signname_df_sorted.loc[y_train[index]]['SignName']\n",
    "    #plt.title(sign_name)\n",
    "\n",
    "    pre_image = preprocess_image(image)\n",
    "    ax2 = plt.subplot(gs1[plt_count])\n",
    "    plt_count += 1\n",
    "    \n",
    "    #ax2[i+1].axis('off')\n",
    "    plt.imshow(pre_image, cmap='gray')\n",
    "    plt.title(\"Preprocessed image\")    \n",
    "    plt.axis('off')\n",
    "    \n",
    "plt.show() \n"
   ]
  },
  {
   "cell_type": "code",
   "execution_count": 6,
   "metadata": {
    "collapsed": false,
    "scrolled": true
   },
   "outputs": [
    {
     "name": "stdout",
     "output_type": "stream",
     "text": [
      "Pre processing data\n",
      "Before pre process train data shape  (34799, 32, 32, 3)\n",
      "Before pre process valid data shape  (4410, 32, 32, 3)\n",
      "Before pre process test data shape  (12630, 32, 32, 3)\n",
      "\n",
      "After pre process train data shape  (34799, 32, 32, 1)\n",
      "After pre process valid data shape  (4410, 32, 32, 1)\n",
      "After pre process test data shape  (12630, 32, 32, 1)\n",
      "\n",
      "Normalizing data\n",
      "\n",
      "After normalize train data shape  (34799, 32, 32, 1)\n",
      "After normalize valid data shape  (4410, 32, 32, 1)\n",
      "After normalize test data shape  (12630, 32, 32, 1)\n",
      "Augment is required for Children crossing, no of times 4\n",
      "Augment is required for Slippery road, no of times 4\n",
      "Augment is required for Beware of ice/snow, no of times 4\n",
      "Augment is required for Vehicles over 3.5 metric tons prohibited, no of times 4\n",
      "Augment is required for Turn left ahead, no of times 4\n",
      "Augment is required for End of speed limit (80km/h), no of times 4\n",
      "Augment is required for Go straight or right, no of times 4\n",
      "Augment is required for Bumpy road, no of times 4\n",
      "Augment is required for Roundabout mandatory, no of times 6\n",
      "Augment is required for Dangerous curve to the right, no of times 6\n",
      "Augment is required for Keep left, no of times 6\n",
      "Augment is required for Double curve, no of times 6\n",
      "Augment is required for Bicycles crossing, no of times 6\n",
      "Augment is required for Road narrows on the right, no of times 6\n",
      "Augment is required for End of no passing, no of times 8\n",
      "Augment is required for End of no passing by vehicles over 3.5 metric tons, no of times 8\n",
      "Augment is required for End of all speed and passing limits, no of times 8\n",
      "Augment is required for Pedestrians, no of times 8\n",
      "Augment is required for Go straight or left, no of times 8\n",
      "Augment is required for Dangerous curve to the left, no of times 8\n",
      "Augment is required for Speed limit (20km/h), no of times 8\n",
      "\n",
      "Augumented data shape  (33000, 32, 32, 1)\n",
      "\n",
      "New training size: 67799  labels size: 67799\n",
      "\n"
     ]
    },
    {
     "data": {
      "image/png": "[encoded data removed]",
      "text/plain": [
       "<matplotlib.figure.Figure at 0x135b77ac8>"
      ]
     },
     "metadata": {},
     "output_type": "display_data"
    }
   ],
   "source": [
    "### Preprocess the data here. It is required to normalize the data. Other preprocessing steps could include \n",
    "### converting to grayscale, etc.\n",
    "### Feel free to use as many code cells as needed.\n",
    "\n",
    "print(\"Pre processing data\")\n",
    "print(\"Before pre process train data shape \", X_train.shape)\n",
    "print(\"Before pre process valid data shape \", X_valid.shape)\n",
    "print(\"Before pre process test data shape \", X_test.shape)\n",
    "print()\n",
    "\n",
    "X_train_p = np.array([preprocess_image(im) for im in X_train ])\n",
    "X_valid_p = np.array([preprocess_image(im) for im in X_valid ])\n",
    "X_test_p =  np.array([preprocess_image(im) for im in X_test ])\n",
    "\n",
    "X_train_p = X_train_p[..., np.newaxis]\n",
    "X_valid_p = X_valid_p[..., np.newaxis]\n",
    "X_test_p = X_test_p[..., np.newaxis]\n",
    "\n",
    "print(\"After pre process train data shape \", X_train_p.shape)\n",
    "print(\"After pre process valid data shape \", X_valid_p.shape)\n",
    "print(\"After pre process test data shape \", X_test_p.shape)\n",
    "#plot_random_images(5, 5, X_train_p, y_train, False)\n",
    "print()\n",
    "print(\"Normalizing data\");\n",
    "X_train_p = X_train_p - np.mean(X_train_p)\n",
    "X_valid_p = X_valid_p - np.mean(X_valid_p)\n",
    "X_test_p = X_test_p - np.mean(X_test_p)\n",
    "print()\n",
    "print(\"After normalize train data shape \", X_train_p.shape)\n",
    "print(\"After normalize valid data shape \", X_valid_p.shape)\n",
    "print(\"After normalize test data shape \", X_test_p.shape)\n",
    "\n",
    "#plot_random_images(5, 5, X_train_p, y_train, True)\n",
    "#print()\n",
    "\n",
    "X_data, y_data = generate_train_data(X_train_p, y_train)\n",
    "#X_data, y_data = generate_train_data(X_train, y_train)\n",
    "#X_data = X_data[..., np.newaxis]\n",
    "print()\n",
    "print(\"Augumented data shape \", X_data.shape)\n",
    "print()\n",
    "\n",
    "X_train_aug = np.append(X_train_p, X_data, axis=0)\n",
    "y_train_aug = np.append(y_train, y_data, axis=0)\n",
    "print(\"New training size:\", len(X_train_aug), \" labels size:\", len(y_train_aug) )\n",
    "print()\n",
    "y_pos = range(n_classes)\n",
    "label_list = y_train_aug.tolist()\n",
    "sign_type = [label_list.count(y) for y in range(n_classes)]\n",
    "\n",
    "plt.bar(y_pos, sign_type, width=0.8, align='center')\n",
    "plt.ylabel('Total Sign Count')\n",
    "plt.xlabel('Total Classes')\n",
    "plt.show()"
   ]
  },
  {
   "cell_type": "markdown",
   "metadata": {},
   "source": [
    "### Model Architecture"
   ]
  },
  {
   "cell_type": "code",
   "execution_count": 7,
   "metadata": {
    "collapsed": true
   },
   "outputs": [],
   "source": [
    "### Define your architecture here.\n",
    "### Feel free to use as many code cells as needed.\n",
    "def conv_layer_with_relu(X, filter_size, no_of_channels, no_of_filters, mu, sigma):\n",
    "    conv_W = tf.Variable(tf.truncated_normal(shape=[filter_size, filter_size, no_of_channels, no_of_filters], mean=mu, stddev=sigma))\n",
    "    conv_b = tf.Variable(tf.zeros(no_of_filters))\n",
    "    conv  = tf.nn.conv2d(X, conv_W, strides=[1, 1, 1, 1], padding='VALID') + conv_b\n",
    "    conv = tf.nn.relu(conv)\n",
    "    \n",
    "    return conv\n",
    "\n",
    "def max_pool(X):\n",
    "    out = tf.nn.max_pool(X, ksize=[1, 2, 2, 1], strides=[1, 2, 2, 1], padding='VALID')\n",
    "    return out\n",
    "\n",
    "def fc_layer_with_relu(fc, in_size, out_size, mu, sigma):\n",
    "    fc_W = tf.Variable(tf.truncated_normal(shape=(in_size, out_size), mean = mu, stddev = sigma))\n",
    "    fc_b = tf.Variable(tf.zeros(out_size))\n",
    "    fc   = tf.matmul(fc, fc_W) + fc_b\n",
    "    fc  = tf.nn.relu(fc)\n",
    "    \n",
    "    return fc\n",
    "\n",
    "def fully_connected(data, outsize):\n",
    "    fc = tf.contrib.layers.fully_connected(data, outsize, tf.nn.relu)\n",
    "    return fc\n",
    "\n",
    "def LeNet(X):\n",
    "    mu=0\n",
    "    sigma=0.1\n",
    "    \n",
    "    #Conv Layer 1: Input:32x32x1, filter:5x5, depth:1, no.of.filters:16, Output:28x28x16\n",
    "    conv1 = conv_layer_with_relu(X, 5, 1, 16, mu, sigma)\n",
    "    \n",
    "    #Pooling: Input:28x28x16, Output:14x14x16\n",
    "    conv1 = max_pool(conv1)\n",
    "    \n",
    "    #Conv Layer 2: Input:14x14x16, filter:5x5, depth:16, no.of.filters:32,Output:10x10x32\n",
    "    conv2 = conv_layer_with_relu(conv1, 5, 16, 32, mu, sigma)\n",
    "    \n",
    "    #Pooling: Input:10x10x32, Output:5x5x32\n",
    "    conv2 = max_pool(conv2)\n",
    "    #print(\"Conv6:\", conv6)\n",
    "    \n",
    "    # Flatten Input:5x5x32, output:800\n",
    "    fl   = flatten(conv2)\n",
    "    fl_dropout = tf.nn.dropout(fl, 0.8)\n",
    "    \n",
    "    #Fully connected layer 1: Input:400, output:120\n",
    "    #fc1 = fc_layer_with_relu(fl, 400, 120, mu, sigma)\n",
    "    #fc1 = fully_connected(fl, 120)\n",
    "    fc1 = fully_connected(fl_dropout, 128)\n",
    "    \n",
    "    #Fully connected layer 2: Input:120, output:84\n",
    "    #fc2 = fc_layer_with_relu(fc1, 120, 84, mu, sigma)\n",
    "    fc2 = fully_connected(fc1, 64)\n",
    "    \n",
    "    #Fully connected layer 3: Input:84, output:43\n",
    "    #logits = fc_layer_with_relu(fc2, 84, 43, mu, sigma)\n",
    "    logits= fully_connected(fc2, 43)\n",
    "    \n",
    "    return logits\n",
    "\n",
    "def ConvNet(X):\n",
    "    mu=0\n",
    "    sigma=0.1\n",
    "    \n",
    "    #Conv Layer 1: Input:32x32x3, filter:3x3, depth:3, no.of.filters:32, Output:32x32x32\n",
    "    conv1 = conv_layer_with_relu(X, 3, 1, 32, mu, sigma)\n",
    "    \n",
    "    #Conv Layer 2: Input:30x30x3, filter:3x3, depth:32, no.of.filters:32, Output:32x32x32\n",
    "    conv2 = conv_layer_with_relu(conv1, 3, 32, 32, mu, sigma)\n",
    "    \n",
    "    #Conv Layer 3: Input:28x28x3, filter:3x3, depth:32, no.of.filters:32, Output:32x32x32\n",
    "    conv3 = conv_layer_with_relu(conv2, 3, 32, 32, mu, sigma)\n",
    "    \n",
    "    \n",
    "    #Pooling: Input:32x32x32, Output:16x16x32\n",
    "    conv3 = max_pool(conv3)\n",
    "    \n",
    "    #Conv Layer 4: Input:16x16x32, filter:3x3, depth:32, no.of.filters:64,Output:16x16x64\n",
    "    conv4 = conv_layer_with_relu(conv3, 3, 32, 64, mu, sigma)\n",
    "    \n",
    "    #Conv Layer 5: Input:16x16x32, filter:3x3, depth:64, no.of.filters:64,Output:16x16x64\n",
    "    conv5 = conv_layer_with_relu(conv4, 3, 64, 64, mu, sigma)\n",
    "    \n",
    "    #Conv Layer 6: Input:16x16x32, filter:3x3, depth:64, no.of.filters:64,Output:16x16x64\n",
    "    conv6 = conv_layer_with_relu(conv5, 3, 64, 64, mu, sigma)\n",
    "    \n",
    "    #Pooling: Input:16x16x64, Output:8x8x64\n",
    "    conv6 = max_pool(conv6)\n",
    "    #print(\"Conv6:\", conv6)\n",
    "    \n",
    "    # Flatten Input:8x8x64, output:1600\n",
    "    fl   = flatten(conv6)\n",
    "    \n",
    "    #Fully connected layer 1: Input:1600, output:120\n",
    "    fc1 = fc_layer_with_relu(fl, 576, 120, mu, sigma)\n",
    "    \n",
    "    #Fully connected layer 2: Input:120, output:84\n",
    "    fc2 = fc_layer_with_relu(fc1, 120, 84, mu, sigma)\n",
    "    \n",
    "    #Fully connected layer 3: Input:84, output:43\n",
    "    logits = fc_layer_with_relu(fc2, 84, 43, mu, sigma)\n",
    "    \n",
    "    return logits\n",
    "    \n",
    "    "
   ]
  },
  {
   "cell_type": "markdown",
   "metadata": {},
   "source": [
    "### Train, Validate and Test the Model"
   ]
  },
  {
   "cell_type": "markdown",
   "metadata": {},
   "source": [
    "A validation set can be used to assess how well the model is performing. A low accuracy on the training and validation\n",
    "sets imply underfitting. A high accuracy on the training set but low accuracy on the validation set implies overfitting."
   ]
  },
  {
   "cell_type": "code",
   "execution_count": 8,
   "metadata": {
    "collapsed": false
   },
   "outputs": [],
   "source": [
    "### Train your model here.\n",
    "### Calculate and report the accuracy on the training and validation set.\n",
    "### Once a final model architecture is selected, \n",
    "### the accuracy on the test set should be calculated and reported as well.\n",
    "### Feel free to use as many code cells as needed.\n",
    "\n",
    "EPOCHS = 20\n",
    "BATCH_SIZE = 100\n",
    "beta = 0.01\n",
    "\n",
    "#place holder \n",
    "x = tf.placeholder(tf.float32, (None, 32, 32, 1))\n",
    "y = tf.placeholder(tf.int32, (None))\n",
    "keep_prob = tf.placeholder(tf.float32)\n",
    "one_hot_y = tf.one_hot(y, 43)\n",
    "\n",
    "#Training pipeline\n",
    "rate = 0.0009\n",
    "\n",
    "logits = LeNet(x)\n",
    "#logits = ConvNet(x)\n",
    "cross_entropy = tf.nn.softmax_cross_entropy_with_logits(labels=one_hot_y, logits=logits)\n",
    "loss_operation = tf.reduce_mean(cross_entropy)\n",
    "# Loss function using L2 Regularization\n",
    "#regularizer = tf.nn.l2_loss(x)\n",
    "#loss_operation = tf.reduce_mean(loss_operation + beta * regularizer)\n",
    "optimizer = tf.train.AdamOptimizer(learning_rate = rate)\n",
    "training_operation = optimizer.minimize(loss_operation)\n"
   ]
  },
  {
   "cell_type": "code",
   "execution_count": 9,
   "metadata": {
    "collapsed": false
   },
   "outputs": [],
   "source": [
    "#Model evaluation\n",
    "inference_operation = tf.argmax(logits, 1)\n",
    "correct_prediction = tf.equal(inference_operation, tf.argmax(one_hot_y, 1))\n",
    "accuracy_operation = tf.reduce_mean(tf.cast(correct_prediction, tf.float32))\n",
    "saver = tf.train.Saver()\n",
    "\n",
    "def evaluate(X_data, y_data):\n",
    "    num_examples = len(X_data)\n",
    "    total_accuracy = 0\n",
    "    total_loss = 0\n",
    "    inference_data = np.array([])\n",
    "    sess = tf.get_default_session()\n",
    "    for offset in range(0, num_examples, BATCH_SIZE):\n",
    "        batch_x, batch_y = X_data[offset:offset+BATCH_SIZE], y_data[offset:offset+BATCH_SIZE]\n",
    "        accuracy, loss, inference = sess.run([accuracy_operation, loss_operation, inference_operation], feed_dict={x: batch_x, y: batch_y, keep_prob: 1.0})\n",
    "        total_accuracy += (accuracy * len(batch_x))\n",
    "        total_loss += (loss * len(batch_x))\n",
    "        inference_data = np.append(inference_data, inference)\n",
    "    return total_accuracy / num_examples, total_loss / num_examples, inference_data"
   ]
  },
  {
   "cell_type": "code",
   "execution_count": 10,
   "metadata": {
    "collapsed": false
   },
   "outputs": [
    {
     "name": "stdout",
     "output_type": "stream",
     "text": [
      "Training...\n",
      "\n",
      "EPOCH 1 ...\n",
      "Validation Accuracy = 0.690\n",
      "Total EPOCH time = 45.704861879348755\n",
      "\n",
      "EPOCH 2 ...\n",
      "Validation Accuracy = 0.818\n",
      "Total EPOCH time = 43.95777678489685\n",
      "\n",
      "EPOCH 3 ...\n",
      "Validation Accuracy = 0.866\n",
      "Total EPOCH time = 39.88943386077881\n",
      "\n",
      "EPOCH 4 ...\n",
      "Validation Accuracy = 0.874\n",
      "Total EPOCH time = 40.93063402175903\n",
      "\n",
      "EPOCH 5 ...\n",
      "Validation Accuracy = 0.895\n",
      "Total EPOCH time = 40.228939056396484\n",
      "\n",
      "EPOCH 6 ...\n",
      "Validation Accuracy = 0.908\n",
      "Total EPOCH time = 39.80581498146057\n",
      "\n",
      "EPOCH 7 ...\n",
      "Validation Accuracy = 0.914\n",
      "Total EPOCH time = 39.45374298095703\n",
      "\n",
      "EPOCH 8 ...\n",
      "Validation Accuracy = 0.921\n",
      "Total EPOCH time = 39.81725311279297\n",
      "\n",
      "EPOCH 9 ...\n",
      "Validation Accuracy = 0.923\n",
      "Total EPOCH time = 40.35807514190674\n",
      "\n",
      "EPOCH 10 ...\n",
      "Validation Accuracy = 0.917\n",
      "Total EPOCH time = 40.13377809524536\n",
      "\n",
      "EPOCH 11 ...\n",
      "Validation Accuracy = 0.928\n",
      "Total EPOCH time = 43.31602501869202\n",
      "\n",
      "EPOCH 12 ...\n",
      "Validation Accuracy = 0.930\n",
      "Total EPOCH time = 41.615262031555176\n",
      "\n",
      "EPOCH 13 ...\n",
      "Validation Accuracy = 0.912\n",
      "Total EPOCH time = 40.805442094802856\n",
      "\n",
      "EPOCH 14 ...\n",
      "Validation Accuracy = 0.914\n",
      "Total EPOCH time = 40.3196280002594\n",
      "\n",
      "EPOCH 15 ...\n",
      "Validation Accuracy = 0.920\n",
      "Total EPOCH time = 40.08162498474121\n",
      "\n",
      "EPOCH 16 ...\n",
      "Validation Accuracy = 0.934\n",
      "Total EPOCH time = 39.918272972106934\n",
      "\n",
      "EPOCH 17 ...\n",
      "Validation Accuracy = 0.942\n",
      "Total EPOCH time = 39.634915828704834\n",
      "\n",
      "EPOCH 18 ...\n",
      "Validation Accuracy = 0.939\n",
      "Total EPOCH time = 39.899397134780884\n",
      "\n",
      "EPOCH 19 ...\n",
      "Validation Accuracy = 0.931\n",
      "Total EPOCH time = 40.578850984573364\n",
      "\n",
      "EPOCH 20 ...\n",
      "Validation Accuracy = 0.939\n",
      "Total EPOCH time = 40.319576025009155\n",
      "\n",
      "Totla time =816.7717349529266\n",
      "Model saved\n"
     ]
    }
   ],
   "source": [
    "start_total = time.time();\n",
    "start = time.time()\n",
    "with tf.Session() as sess:\n",
    "    sess.run(tf.global_variables_initializer())\n",
    "    num_examples = len(X_train_aug)\n",
    "    \n",
    "    print(\"Training...\")\n",
    "    print()\n",
    "    for i in range(EPOCHS):\n",
    "        X_train_aug, y_train_aug = shuffle(X_train_aug, y_train_aug)\n",
    "        for offset in range(0, num_examples, BATCH_SIZE):\n",
    "            end = offset + BATCH_SIZE\n",
    "            batch_x, batch_y = X_train_aug[offset:end], y_train_aug[offset:end]\n",
    "            sess.run(training_operation, feed_dict={x: batch_x, y: batch_y, keep_prob:0.8})\n",
    "            \n",
    "        validation_accuracy, validation_loss, inference_data = evaluate(X_valid_p, y_valid)\n",
    "        #if i%10 == 0:\n",
    "        print(\"EPOCH {} ...\".format(i+1))\n",
    "        print(\"Validation Accuracy = {:.3f}\".format(validation_accuracy))\n",
    "        end = time.time();\n",
    "        print(\"Total EPOCH time = {}\".format(end -start))\n",
    "        start = time.time()\n",
    "        print()\n",
    "    \n",
    "    end = time.time()\n",
    "    print(\"Totla time ={}\".format(end-start_total))\n",
    "    saver.save(sess, './lenet')\n",
    "    print(\"Model saved\")"
   ]
  },
  {
   "cell_type": "code",
   "execution_count": 13,
   "metadata": {
    "collapsed": false
   },
   "outputs": [
    {
     "name": "stdout",
     "output_type": "stream",
     "text": [
      "Test Accuracy = 0.912\n"
     ]
    },
    {
     "data": {
      "image/png": "[encoded data removed]",
      "text/plain": [
       "<matplotlib.figure.Figure at 0x108921240>"
      ]
     },
     "metadata": {},
     "output_type": "display_data"
    }
   ],
   "source": [
    "with tf.Session() as sess:\n",
    "        saver.restore(sess, tf.train.latest_checkpoint('.'))\n",
    "        test_accuracy, test_loss, test_inference_data = evaluate(X_test_p, y_test)\n",
    "        \n",
    "        print(\"Test Accuracy = {:.3f}\".format(test_accuracy))\n",
    "        plt.title('Confusion Matrix')\n",
    "        plt.imshow(confusion_matrix(y_true = y_test,y_pred = test_inference_data))\n",
    "        plt.show()"
   ]
  },
  {
   "cell_type": "markdown",
   "metadata": {},
   "source": [
    "---\n",
    "\n",
    "## Step 3: Test a Model on New Images\n",
    "\n",
    "To give yourself more insight into how your model is working, download at least five pictures of German traffic signs from the web and use your model to predict the traffic sign type.\n",
    "\n",
    "You may find `signnames.csv` useful as it contains mappings from the class id (integer) to the actual sign name."
   ]
  },
  {
   "cell_type": "markdown",
   "metadata": {},
   "source": [
    "### Load and Output the Images"
   ]
  },
  {
   "cell_type": "code",
   "execution_count": 51,
   "metadata": {
    "collapsed": false
   },
   "outputs": [
    {
     "name": "stdout",
     "output_type": "stream",
     "text": [
      "Original new images with resize\n"
     ]
    },
    {
     "data": {
      "image/png": "[encoded data removed]",
      "text/plain": [
       "<matplotlib.figure.Figure at 0x1359dc390>"
      ]
     },
     "metadata": {},
     "output_type": "display_data"
    },
    {
     "name": "stdout",
     "output_type": "stream",
     "text": [
      "\n",
      "After preprocessed \n"
     ]
    },
    {
     "data": {
      "image/png": "[encoded data removed]",
      "text/plain": [
       "<matplotlib.figure.Figure at 0x135488908>"
      ]
     },
     "metadata": {},
     "output_type": "display_data"
    }
   ],
   "source": [
    "### Load the images and plot them here.\n",
    "### Feel free to use as many code cells as needed.\n",
    "\n",
    "def read_newimage_file(name):\n",
    "    image = mpimg.imread(name)\n",
    "    #image = cv2.imread(name, cv2.IMREAD_UNCHANGED)\n",
    "    #image = cv2.resize(image,(32,32))\n",
    "    image = cv2.resize(image,(32,32))\n",
    "    \n",
    "    return image\n",
    "\n",
    "def preprocess_newimage(img):\n",
    "    img = cv2.cvtColor(img, cv2.COLOR_RGB2GRAY)\n",
    "    #retval, img = cv2.threshold(img, 127, 255, cv2.THRESH_BINARY)\n",
    "    img = cv2.convertScaleAbs(img)\n",
    "    img = cv2.equalizeHist(img)\n",
    "    \n",
    "    return img;\n",
    "\n",
    "def plot_newimages(images):\n",
    "    plt.figure(figsize = (10,8))\n",
    "    gs1 = gridspec.GridSpec(2,3)\n",
    "    gs1.update(wspace=0.01, hspace=0.19)\n",
    "    for index in range(len(images)):\n",
    "        image = images[index]\n",
    "        ax1 = plt.subplot(gs1[index])\n",
    "        plt.axis('off')\n",
    "        #ax1.set_aspect('equal')\n",
    "        plt.imshow(image)\n",
    "    plt.show() \n",
    "\n",
    "n_image_names = [name for name in os.listdir('./new_signs/') if not name.startswith('.')]\n",
    "#print(n_image_names)\n",
    "n_image_data = [read_newimage_file('./new_signs/' + name) for name in os.listdir('./new_signs/') if not name.startswith('.')]\n",
    "NP_img_data = np.array(n_image_data, dtype=np.float32)\n",
    "print(\"Original new images with resize\")\n",
    "plot_newimages(NP_img_data)\n",
    "print()\n",
    "NP_image_p = np.array([preprocess_newimage(img) for img in NP_img_data])\n",
    "print(\"After preprocessed \")\n",
    "plot_newimages(NP_image_p)\n",
    "NP_image_p = NP_image_p[..., np.newaxis]"
   ]
  },
  {
   "cell_type": "markdown",
   "metadata": {},
   "source": [
    "### Predict the Sign Type for Each Image"
   ]
  },
  {
   "cell_type": "code",
   "execution_count": 24,
   "metadata": {
    "collapsed": false
   },
   "outputs": [
    {
     "name": "stdout",
     "output_type": "stream",
     "text": [
      "[array([17, 20,  0, 40, 13]), TopKV2(values=array([[  32.95628357,   17.21338081,   10.3754921 ,   10.0947094 ,\n",
      "           8.26375294],\n",
      "       [   9.73399544,    9.59369183,    9.1671505 ,    4.96352148,\n",
      "           4.37721586],\n",
      "       [  16.65415955,   15.84739494,   15.45999622,   14.27790833,\n",
      "          13.88187599],\n",
      "       [  16.96342659,    7.99330521,    6.16056204,    4.9902072 ,\n",
      "           4.92687559],\n",
      "       [ 164.1230011 ,   46.94557953,   26.51422119,   25.13241196,\n",
      "          23.80057335]], dtype=float32), indices=array([[17, 40, 16, 33, 34],\n",
      "       [20,  6, 40, 10, 12],\n",
      "       [ 0, 18,  3, 20,  8],\n",
      "       [40, 20, 29, 11, 28],\n",
      "       [13, 32,  3,  5,  2]], dtype=int32))]\n"
     ]
    }
   ],
   "source": [
    "### Run the predictions here and use the model to output the prediction for each image.\n",
    "### Make sure to pre-process the images with the same pre-processing pipeline used earlier.\n",
    "### Feel free to use as many code cells as needed.\n",
    "feed_dict_new = {x:NP_image_p, keep_prob: 1}\n",
    "top5_k = tf.nn.top_k(logits, 5)\n",
    "\n",
    "with tf.Session() as sess:\n",
    "    saver.restore(sess, tf.train.latest_checkpoint('.'))\n",
    "    inference_output = sess.run([inference_operation, top5_k], feed_dict=feed_dict_new)\n",
    "    #logits_pred = sess.run([logits, top5_k], feed_dict=feed_dict_new)\n",
    "    print(inference_output)\n"
   ]
  },
  {
   "cell_type": "code",
   "execution_count": 47,
   "metadata": {
    "collapsed": false
   },
   "outputs": [
    {
     "data": {
      "image/png": "[encoded data removed]",
      "text/plain": [
       "<matplotlib.figure.Figure at 0x1359e0ef0>"
      ]
     },
     "metadata": {},
     "output_type": "display_data"
    },
    {
     "data": {
      "image/png": "[encoded data removed]",
      "text/plain": [
       "<matplotlib.figure.Figure at 0x135a81518>"
      ]
     },
     "metadata": {},
     "output_type": "display_data"
    },
    {
     "data": {
      "image/png": "[encoded data removed]",
      "text/plain": [
       "<matplotlib.figure.Figure at 0x132e70518>"
      ]
     },
     "metadata": {},
     "output_type": "display_data"
    },
    {
     "data": {
      "image/png": "[encoded data removed]",
      "text/plain": [
       "<matplotlib.figure.Figure at 0x135648550>"
      ]
     },
     "metadata": {},
     "output_type": "display_data"
    },
    {
     "data": {
      "image/png": "[encoded data removed]",
      "text/plain": [
       "<matplotlib.figure.Figure at 0x1354dabe0>"
      ]
     },
     "metadata": {},
     "output_type": "display_data"
    }
   ],
   "source": [
    "for i in range(5):\n",
    "    plt.figure(figsize = (5,1.5))\n",
    "    gs = gridspec.GridSpec(1, 2,width_ratios=[2,3])\n",
    "    plt.subplot(gs[0])\n",
    "    plt.imshow(NP_img_data[i])\n",
    "    plt.axis('off')\n",
    "    plt.subplot(gs[1])\n",
    "    plt.barh(6-np.arange(5),inference_output[1][0][i], align='center')\n",
    "    for i_label in range(5):\n",
    "        plt.text(inference_output[1][0][i][i_label]+.02,6-i_label-.25,\n",
    "            signname_df_sorted['SignName'][inference_output[1][1][i][i_label]])\n",
    "    plt.axis('off');\n",
    "    plt.text(0,6.95,n_image_names[i].split('.')[0]);\n",
    "    plt.show();"
   ]
  },
  {
   "cell_type": "markdown",
   "metadata": {},
   "source": [
    "### Analyze Performance"
   ]
  },
  {
   "cell_type": "code",
   "execution_count": null,
   "metadata": {
    "collapsed": true
   },
   "outputs": [],
   "source": [
    "### Calculate the accuracy for these 5 new images. \n",
    "### For example, if the model predicted 1 out of 5 signs correctly, it's 20% accurate on these new images."
   ]
  },
  {
   "cell_type": "markdown",
   "metadata": {},
   "source": [
    "### Output Top 5 Softmax Probabilities For Each Image Found on the Web"
   ]
  },
  {
   "cell_type": "markdown",
   "metadata": {},
   "source": [
    "For each of the new images, print out the model's softmax probabilities to show the **certainty** of the model's predictions (limit the output to the top 5 probabilities for each image). [`tf.nn.top_k`](https://www.tensorflow.org/versions/r0.12/api_docs/python/nn.html#top_k) could prove helpful here. \n",
    "\n",
    "The example below demonstrates how tf.nn.top_k can be used to find the top k predictions for each image.\n",
    "\n",
    "`tf.nn.top_k` will return the values and indices (class ids) of the top k predictions. So if k=3, for each sign, it'll return the 3 largest probabilities (out of a possible 43) and the correspoding class ids.\n",
    "\n",
    "Take this numpy array as an example. The values in the array represent predictions. The array contains softmax probabilities for five candidate images with six possible classes. `tk.nn.top_k` is used to choose the three classes with the highest probability:\n",
    "\n",
    "```\n",
    "# (5, 6) array\n",
    "a = np.array([[ 0.24879643,  0.07032244,  0.12641572,  0.34763842,  0.07893497,\n",
    "         0.12789202],\n",
    "       [ 0.28086119,  0.27569815,  0.08594638,  0.0178669 ,  0.18063401,\n",
    "         0.15899337],\n",
    "       [ 0.26076848,  0.23664738,  0.08020603,  0.07001922,  0.1134371 ,\n",
    "         0.23892179],\n",
    "       [ 0.11943333,  0.29198961,  0.02605103,  0.26234032,  0.1351348 ,\n",
    "         0.16505091],\n",
    "       [ 0.09561176,  0.34396535,  0.0643941 ,  0.16240774,  0.24206137,\n",
    "         0.09155967]])\n",
    "```\n",
    "\n",
    "Running it through `sess.run(tf.nn.top_k(tf.constant(a), k=3))` produces:\n",
    "\n",
    "```\n",
    "TopKV2(values=array([[ 0.34763842,  0.24879643,  0.12789202],\n",
    "       [ 0.28086119,  0.27569815,  0.18063401],\n",
    "       [ 0.26076848,  0.23892179,  0.23664738],\n",
    "       [ 0.29198961,  0.26234032,  0.16505091],\n",
    "       [ 0.34396535,  0.24206137,  0.16240774]]), indices=array([[3, 0, 5],\n",
    "       [0, 1, 4],\n",
    "       [0, 5, 1],\n",
    "       [1, 3, 5],\n",
    "       [1, 4, 3]], dtype=int32))\n",
    "```\n",
    "\n",
    "Looking just at the first row we get `[ 0.34763842,  0.24879643,  0.12789202]`, you can confirm these are the 3 largest probabilities in `a`. You'll also notice `[3, 0, 5]` are the corresponding indices."
   ]
  },
  {
   "cell_type": "code",
   "execution_count": null,
   "metadata": {
    "collapsed": true
   },
   "outputs": [],
   "source": [
    "### Print out the top five softmax probabilities for the predictions on the German traffic sign images found on the web. \n",
    "### Feel free to use as many code cells as needed."
   ]
  },
  {
   "cell_type": "markdown",
   "metadata": {},
   "source": [
    "### Project Writeup\n",
    "\n",
    "Once you have completed the code implementation, document your results in a project writeup using this [template](https://github.com/udacity/CarND-Traffic-Sign-Classifier-Project/blob/master/writeup_template.md) as a guide. The writeup can be in a markdown or pdf file. "
   ]
  },
  {
   "cell_type": "markdown",
   "metadata": {},
   "source": [
    "> **Note**: Once you have completed all of the code implementations and successfully answered each question above, you may finalize your work by exporting the iPython Notebook as an HTML document. You can do this by using the menu above and navigating to  \\n\",\n",
    "    \"**File -> Download as -> HTML (.html)**. Include the finished document along with this notebook as your submission."
   ]
  },
  {
   "cell_type": "markdown",
   "metadata": {},
   "source": [
    "---\n",
    "\n",
    "## Step 4 (Optional): Visualize the Neural Network's State with Test Images\n",
    "\n",
    " This Section is not required to complete but acts as an additional excersise for understaning the output of a neural network's weights. While neural networks can be a great learning device they are often referred to as a black box. We can understand what the weights of a neural network look like better by plotting their feature maps. After successfully training your neural network you can see what it's feature maps look like by plotting the output of the network's weight layers in response to a test stimuli image. From these plotted feature maps, it's possible to see what characteristics of an image the network finds interesting. For a sign, maybe the inner network feature maps react with high activation to the sign's boundary outline or to the contrast in the sign's painted symbol.\n",
    "\n",
    " Provided for you below is the function code that allows you to get the visualization output of any tensorflow weight layer you want. The inputs to the function should be a stimuli image, one used during training or a new one you provided, and then the tensorflow variable name that represents the layer's state during the training process, for instance if you wanted to see what the [LeNet lab's](https://classroom.udacity.com/nanodegrees/nd013/parts/fbf77062-5703-404e-b60c-95b78b2f3f9e/modules/6df7ae49-c61c-4bb2-a23e-6527e69209ec/lessons/601ae704-1035-4287-8b11-e2c2716217ad/concepts/d4aca031-508f-4e0b-b493-e7b706120f81) feature maps looked like for it's second convolutional layer you could enter conv2 as the tf_activation variable.\n",
    "\n",
    "For an example of what feature map outputs look like, check out NVIDIA's results in their paper [End-to-End Deep Learning for Self-Driving Cars](https://devblogs.nvidia.com/parallelforall/deep-learning-self-driving-cars/) in the section Visualization of internal CNN State. NVIDIA was able to show that their network's inner weights had high activations to road boundary lines by comparing feature maps from an image with a clear path to one without. Try experimenting with a similar test to show that your trained network's weights are looking for interesting features, whether it's looking at differences in feature maps from images with or without a sign, or even what feature maps look like in a trained network vs a completely untrained one on the same sign image.\n",
    "\n",
    "<figure>\n",
    " <img src=\"visualize_cnn.png\" width=\"380\" alt=\"Combined Image\" />\n",
    " <figcaption>\n",
    " <p></p> \n",
    " <p style=\"text-align: center;\"> Your output should look something like this (above)</p> \n",
    " </figcaption>\n",
    "</figure>\n",
    " <p></p> \n"
   ]
  },
  {
   "cell_type": "code",
   "execution_count": 35,
   "metadata": {
    "collapsed": true
   },
   "outputs": [],
   "source": [
    "### Visualize your network's feature maps here.\n",
    "### Feel free to use as many code cells as needed.\n",
    "\n",
    "# image_input: the test image being fed into the network to produce the feature maps\n",
    "# tf_activation: should be a tf variable name used during your training procedure that represents the calculated state of a specific weight layer\n",
    "# activation_min/max: can be used to view the activation contrast in more detail, by default matplot sets min and max to the actual min and max values of the output\n",
    "# plt_num: used to plot out multiple different weight feature map sets on the same block, just extend the plt number for each new feature map entry\n",
    "\n",
    "def outputFeatureMap(image_input, tf_activation, activation_min=-1, activation_max=-1 ,plt_num=1):\n",
    "    # Here make sure to preprocess your image_input in a way your network expects\n",
    "    # with size, normalization, ect if needed\n",
    "    # image_input =\n",
    "    # Note: x should be the same name as your network's tensorflow data placeholder variable\n",
    "    # If you get an error tf_activation is not defined it may be having trouble accessing the variable from inside a function\n",
    "    activation = tf_activation.eval(session=sess,feed_dict={x : image_input})\n",
    "    featuremaps = activation.shape[1]\n",
    "    plt.figure(plt_num, figsize=(15,15))\n",
    "    for featuremap in range(featuremaps):\n",
    "        plt.subplot(6,8, featuremap+1) # sets the number of feature maps to show on each row and column\n",
    "        plt.title('FeatureMap ' + str(featuremap)) # displays the feature map number\n",
    "        if activation_min != -1 & activation_max != -1:\n",
    "            plt.imshow(activation[0,:,:, featuremap], interpolation=\"nearest\", vmin =activation_min, vmax=activation_max, cmap=\"gray\")\n",
    "        elif activation_max != -1:\n",
    "            plt.imshow(activation[0,:,:, featuremap], interpolation=\"nearest\", vmax=activation_max, cmap=\"gray\")\n",
    "        elif activation_min !=-1:\n",
    "            plt.imshow(activation[0,:,:, featuremap], interpolation=\"nearest\", vmin=activation_min, cmap=\"gray\")\n",
    "        else:\n",
    "            plt.imshow(activation[0,:,:, featuremap], interpolation=\"nearest\", cmap=\"gray\")"
   ]
  },
  {
   "cell_type": "code",
   "execution_count": 46,
   "metadata": {
    "collapsed": false
   },
   "outputs": [
    {
     "name": "stdout",
     "output_type": "stream",
     "text": [
      "[[[255]\n",
      "  [255]\n",
      "  [255]\n",
      "  ..., \n",
      "  [255]\n",
      "  [255]\n",
      "  [255]]\n",
      "\n",
      " [[255]\n",
      "  [255]\n",
      "  [255]\n",
      "  ..., \n",
      "  [255]\n",
      "  [255]\n",
      "  [255]]\n",
      "\n",
      " [[255]\n",
      "  [255]\n",
      "  [255]\n",
      "  ..., \n",
      "  [255]\n",
      "  [255]\n",
      "  [255]]\n",
      "\n",
      " ..., \n",
      " [[255]\n",
      "  [255]\n",
      "  [255]\n",
      "  ..., \n",
      "  [255]\n",
      "  [255]\n",
      "  [255]]\n",
      "\n",
      " [[255]\n",
      "  [255]\n",
      "  [255]\n",
      "  ..., \n",
      "  [255]\n",
      "  [255]\n",
      "  [255]]\n",
      "\n",
      " [[255]\n",
      "  [255]\n",
      "  [255]\n",
      "  ..., \n",
      "  [255]\n",
      "  [255]\n",
      "  [255]]]\n"
     ]
    }
   ],
   "source": [
    "with tf.Session() as sess:\n",
    "    saver.restore(sess, tf.train.latest_checkpoint('.'))\n",
    "    print(NP_image_p[0])\n",
    "    #outputFeatureMap(NP_image_p[0], logits)"
   ]
  },
  {
   "cell_type": "code",
   "execution_count": null,
   "metadata": {
    "collapsed": true
   },
   "outputs": [],
   "source": []
  }
 ],
 "metadata": {
  "anaconda-cloud": {},
  "kernelspec": {
   "display_name": "Python 3",
   "language": "python",
   "name": "python3"
  },
  "language_info": {
   "codemirror_mode": {
    "name": "ipython",
    "version": 3
   },
   "file_extension": ".py",
   "mimetype": "text/x-python",
   "name": "python",
   "nbconvert_exporter": "python",
   "pygments_lexer": "ipython3",
   "version": "3.5.2"
  },
  "widgets": {
   "state": {},
   "version": "1.1.2"
  }
 },
 "nbformat": 4,
 "nbformat_minor": 1
}
